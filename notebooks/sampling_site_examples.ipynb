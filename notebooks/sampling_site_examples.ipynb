{
 "cells": [
  {
   "cell_type": "code",
   "execution_count": 2,
   "metadata": {},
   "outputs": [
    {
     "name": "stdout",
     "output_type": "stream",
     "text": [
      "6df44a161284631bad475d8add1d1f8947316ecb675b4592380ce38b21e5da8d\n"
     ]
    }
   ],
   "source": [
    "! docker run -d -p 127.0.0.1:9200:9200 -v $(pwd)/geonames_index/:/usr/share/elasticsearch/data elasticsearch:5.5.2"
   ]
  },
  {
   "cell_type": "code",
   "execution_count": 3,
   "metadata": {},
   "outputs": [
    {
     "name": "stderr",
     "output_type": "stream",
     "text": [
      "Using TensorFlow backend.\n",
      "/anaconda3/envs/mordecai/lib/python3.6/site-packages/tensorflow/python/framework/dtypes.py:526: FutureWarning: Passing (type, 1) or '1type' as a synonym of type is deprecated; in a future version of numpy, it will be understood as (type, (1,)) / '(1,)type'.\n",
      "  _np_qint8 = np.dtype([(\"qint8\", np.int8, 1)])\n",
      "/anaconda3/envs/mordecai/lib/python3.6/site-packages/tensorflow/python/framework/dtypes.py:527: FutureWarning: Passing (type, 1) or '1type' as a synonym of type is deprecated; in a future version of numpy, it will be understood as (type, (1,)) / '(1,)type'.\n",
      "  _np_quint8 = np.dtype([(\"quint8\", np.uint8, 1)])\n",
      "/anaconda3/envs/mordecai/lib/python3.6/site-packages/tensorflow/python/framework/dtypes.py:528: FutureWarning: Passing (type, 1) or '1type' as a synonym of type is deprecated; in a future version of numpy, it will be understood as (type, (1,)) / '(1,)type'.\n",
      "  _np_qint16 = np.dtype([(\"qint16\", np.int16, 1)])\n",
      "/anaconda3/envs/mordecai/lib/python3.6/site-packages/tensorflow/python/framework/dtypes.py:529: FutureWarning: Passing (type, 1) or '1type' as a synonym of type is deprecated; in a future version of numpy, it will be understood as (type, (1,)) / '(1,)type'.\n",
      "  _np_quint16 = np.dtype([(\"quint16\", np.uint16, 1)])\n",
      "/anaconda3/envs/mordecai/lib/python3.6/site-packages/tensorflow/python/framework/dtypes.py:530: FutureWarning: Passing (type, 1) or '1type' as a synonym of type is deprecated; in a future version of numpy, it will be understood as (type, (1,)) / '(1,)type'.\n",
      "  _np_qint32 = np.dtype([(\"qint32\", np.int32, 1)])\n",
      "/anaconda3/envs/mordecai/lib/python3.6/site-packages/tensorflow/python/framework/dtypes.py:535: FutureWarning: Passing (type, 1) or '1type' as a synonym of type is deprecated; in a future version of numpy, it will be understood as (type, (1,)) / '(1,)type'.\n",
      "  np_resource = np.dtype([(\"resource\", np.ubyte, 1)])\n",
      "WARNING:tensorflow:From /anaconda3/envs/mordecai/lib/python3.6/site-packages/tensorflow/python/framework/op_def_library.py:263: colocate_with (from tensorflow.python.framework.ops) is deprecated and will be removed in a future version.\n",
      "Instructions for updating:\n",
      "Colocations handled automatically by placer.\n",
      "WARNING:tensorflow:From /anaconda3/envs/mordecai/lib/python3.6/site-packages/keras/backend/tensorflow_backend.py:3445: calling dropout (from tensorflow.python.ops.nn_ops) with keep_prob is deprecated and will be removed in a future version.\n",
      "Instructions for updating:\n",
      "Please use `rate` instead of `keep_prob`. Rate should be set to `rate = 1 - keep_prob`.\n",
      "WARNING:tensorflow:From /anaconda3/envs/mordecai/lib/python3.6/site-packages/tensorflow/python/ops/math_ops.py:3066: to_int32 (from tensorflow.python.ops.math_ops) is deprecated and will be removed in a future version.\n",
      "Instructions for updating:\n",
      "Use tf.cast instead.\n"
     ]
    }
   ],
   "source": [
    "from mordecai import Geoparser\n",
    "geo = Geoparser()"
   ]
  },
  {
   "cell_type": "code",
   "execution_count": 4,
   "metadata": {},
   "outputs": [
    {
     "data": {
      "text/plain": [
       "[{'word': 'Oxford',\n",
       "  'spans': [{'start': 16, 'end': 22}],\n",
       "  'country_predicted': 'GBR',\n",
       "  'country_conf': 0.96474487,\n",
       "  'geo': {'admin1': 'England',\n",
       "   'lat': '51.75222',\n",
       "   'lon': '-1.25596',\n",
       "   'country_code3': 'GBR',\n",
       "   'geonameid': '2640729',\n",
       "   'place_name': 'Oxford',\n",
       "   'feature_class': 'P',\n",
       "   'feature_code': 'PPLA2'}},\n",
       " {'word': 'Ottawa',\n",
       "  'spans': [{'start': 26, 'end': 32}],\n",
       "  'country_predicted': 'CAN',\n",
       "  'country_conf': 0.83302397,\n",
       "  'geo': {'admin1': 'Ontario',\n",
       "   'lat': '45.41117',\n",
       "   'lon': '-75.69812',\n",
       "   'country_code3': 'CAN',\n",
       "   'geonameid': '6094817',\n",
       "   'place_name': 'Ottawa',\n",
       "   'feature_class': 'P',\n",
       "   'feature_code': 'PPLC'}}]"
      ]
     },
     "execution_count": 4,
     "metadata": {},
     "output_type": "execute_result"
    }
   ],
   "source": [
    "geo.geoparse(\"I traveled from Oxford to Ottawa.\")"
   ]
  },
  {
   "cell_type": "code",
   "execution_count": 5,
   "metadata": {},
   "outputs": [
    {
     "data": {
      "text/plain": [
       "[{'word': 'Hamburg',\n",
       "  'spans': [{'start': 16, 'end': 23}],\n",
       "  'country_predicted': 'DEU',\n",
       "  'country_conf': 0.96474487,\n",
       "  'geo': {'admin1': 'Hamburg',\n",
       "   'lat': '53.57532',\n",
       "   'lon': '10.01534',\n",
       "   'country_code3': 'DEU',\n",
       "   'geonameid': '2911298',\n",
       "   'place_name': 'Hamburg',\n",
       "   'feature_class': 'P',\n",
       "   'feature_code': 'PPLA'}},\n",
       " {'word': 'West Germany',\n",
       "  'spans': [{'start': 27, 'end': 39}],\n",
       "  'country_predicted': 'DEU',\n",
       "  'country_conf': 0.9881995,\n",
       "  'geo': {'admin1': 'NA',\n",
       "   'lat': '51.5',\n",
       "   'lon': '10.5',\n",
       "   'country_code3': 'DEU',\n",
       "   'geonameid': '2921044',\n",
       "   'place_name': 'Federal Republic of Germany',\n",
       "   'feature_class': 'A',\n",
       "   'feature_code': 'PCLI'}}]"
      ]
     },
     "execution_count": 5,
     "metadata": {},
     "output_type": "execute_result"
    }
   ],
   "source": [
    "geo.geoparse(\"I traveled from Hamburg to West Germany.\")"
   ]
  },
  {
   "cell_type": "code",
   "execution_count": 6,
   "metadata": {},
   "outputs": [
    {
     "data": {
      "text/plain": [
       "[{'word': 'Idaho',\n",
       "  'spans': [{'start': 104, 'end': 109}],\n",
       "  'country_predicted': 'USA',\n",
       "  'country_conf': 0.9991698,\n",
       "  'geo': {'admin1': 'Idaho',\n",
       "   'lat': '44.5002',\n",
       "   'lon': '-114.25118',\n",
       "   'country_code3': 'USA',\n",
       "   'geonameid': '5596512',\n",
       "   'place_name': 'Idaho',\n",
       "   'feature_class': 'A',\n",
       "   'feature_code': 'ADM1'}},\n",
       " {'word': 'USA',\n",
       "  'spans': [{'start': 111, 'end': 114}],\n",
       "  'country_predicted': 'USA',\n",
       "  'country_conf': 0.999931,\n",
       "  'geo': {'admin1': 'California',\n",
       "   'lat': '34.00474',\n",
       "   'lon': '-117.33588',\n",
       "   'country_code3': 'USA',\n",
       "   'geonameid': '7195491',\n",
       "   'place_name': 'Sgi-Usa Riverside Community Center',\n",
       "   'feature_class': 'S',\n",
       "   'feature_code': 'BLDG'}}]"
      ]
     },
     "execution_count": 6,
     "metadata": {},
     "output_type": "execute_result"
    }
   ],
   "source": [
    "geo.geoparse(\"This historical data set consists of 26 permanent 1-m 2 quadrats located on sagebrush steppe in eastern Idaho, USA.\")"
   ]
  },
  {
   "cell_type": "code",
   "execution_count": 7,
   "metadata": {},
   "outputs": [
    {
     "data": {
      "text/plain": [
       "[{'word': 'West Thornton',\n",
       "  'spans': [{'start': 123, 'end': 136}],\n",
       "  'country_predicted': 'USA',\n",
       "  'country_conf': 0.9881995,\n",
       "  'geo': {'admin1': 'Oregon',\n",
       "   'lat': '44.34181',\n",
       "   'lon': '-119.93304',\n",
       "   'country_code3': 'USA',\n",
       "   'geonameid': '5760086',\n",
       "   'place_name': 'West Thornton Creek',\n",
       "   'feature_class': 'H',\n",
       "   'feature_code': 'STM'}},\n",
       " {'word': 'Grafton',\n",
       "  'spans': [{'start': 138, 'end': 145}],\n",
       "  'country_predicted': 'USA',\n",
       "  'country_conf': 0.9881995,\n",
       "  'geo': {'admin1': 'Wisconsin',\n",
       "   'lat': '43.31973',\n",
       "   'lon': '-87.95342',\n",
       "   'country_code3': 'USA',\n",
       "   'geonameid': '5254739',\n",
       "   'place_name': 'Grafton',\n",
       "   'feature_class': 'P',\n",
       "   'feature_code': 'PPL'}}]"
      ]
     },
     "execution_count": 7,
     "metadata": {},
     "output_type": "execute_result"
    }
   ],
   "source": [
    "geo.geoparse('''This study was conducted in the Hubbard Brook Experimental Forest, a 3076-ha sector of the White Mountain National Forest, West Thornton, Grafton County, but showed no increasing or decreasing trends over the 16 yr of the study (Fig. 1)''')"
   ]
  },
  {
   "cell_type": "code",
   "execution_count": 8,
   "metadata": {},
   "outputs": [
    {
     "data": {
      "text/plain": [
       "[{'word': 'Lapland',\n",
       "  'spans': [{'start': 60, 'end': 67}],\n",
       "  'country_predicted': 'FIN',\n",
       "  'country_conf': 0.5614619},\n",
       " {'word': 'Lapland',\n",
       "  'spans': [{'start': 214, 'end': 221}],\n",
       "  'country_predicted': 'FIN',\n",
       "  'country_conf': 0.5614619},\n",
       " {'word': 'Anjan',\n",
       "  'spans': [{'start': 244, 'end': 249}],\n",
       "  'country_predicted': 'CHN',\n",
       "  'country_conf': 0.73197085,\n",
       "  'geo': {'admin1': 'Henan',\n",
       "   'lat': '36.096',\n",
       "   'lon': '114.38278',\n",
       "   'country_code3': 'CHN',\n",
       "   'geonameid': '1785294',\n",
       "   'place_name': 'Anyang',\n",
       "   'feature_class': 'P',\n",
       "   'feature_code': 'PPLA2'}},\n",
       " {'word': 'Anjan',\n",
       "  'spans': [{'start': 775, 'end': 780}],\n",
       "  'country_predicted': 'CHN',\n",
       "  'country_conf': 0.73197085,\n",
       "  'geo': {'admin1': 'Henan',\n",
       "   'lat': '36.096',\n",
       "   'lon': '114.38278',\n",
       "   'country_code3': 'CHN',\n",
       "   'geonameid': '1785294',\n",
       "   'place_name': 'Anyang',\n",
       "   'feature_class': 'P',\n",
       "   'feature_code': 'PPLA2'}},\n",
       " {'word': 'Anjan',\n",
       "  'spans': [{'start': 946, 'end': 951}],\n",
       "  'country_predicted': 'CHN',\n",
       "  'country_conf': 0.73197085,\n",
       "  'geo': {'admin1': 'Henan',\n",
       "   'lat': '36.096',\n",
       "   'lon': '114.38278',\n",
       "   'country_code3': 'CHN',\n",
       "   'geonameid': '1785294',\n",
       "   'place_name': 'Anyang',\n",
       "   'feature_class': 'P',\n",
       "   'feature_code': 'PPLA2'}}]"
      ]
     },
     "execution_count": 8,
     "metadata": {},
     "output_type": "execute_result"
    }
   ],
   "source": [
    "geo.geoparse(\"The most important site was located at Ammarnäs in southern Lapland (65° 50' N), where two plots, each c. 100 ha, were surveyed for 38 and 36 consecutive years. The plots at the other two sites, Abisko in northern Lapland (68° 16', 130 ha) and Anjan in western Jämtland (63° 45' N, 150 ha), were surveyed during 12 years of a 15 year period and 11 years of a 14 years period, respectively. The time series from Ammarnäs was sufficiently long for population trend analysis whereas the other two series were too short for that purpose. They were, however, quite sufficient to show annual variation and to serve comparisons of species composition and densities between the sites. In the following, I use the term site for the three study areas in general, Abisko, Ammarnäs, and Anjan, and plot for the small areas where the birds were counted. The latter will be referred to as Påtjujaure (at Abisko), Kraipe K1 and K2 (at Ammarnäs), and Ottsjö (at Anjan).\")"
   ]
  },
  {
   "cell_type": "code",
   "execution_count": 9,
   "metadata": {},
   "outputs": [
    {
     "data": {
      "text/plain": [
       "[{'word': 'Sweden',\n",
       "  'spans': [{'start': 10, 'end': 16}],\n",
       "  'country_predicted': 'SWE',\n",
       "  'country_conf': 0.9998105,\n",
       "  'geo': {'admin1': 'NA',\n",
       "   'lat': '62',\n",
       "   'lon': '15',\n",
       "   'country_code3': 'SWE',\n",
       "   'geonameid': '2661886',\n",
       "   'place_name': 'Kingdom of Sweden',\n",
       "   'feature_class': 'A',\n",
       "   'feature_code': 'PCLI'}}]"
      ]
     },
     "execution_count": 9,
     "metadata": {},
     "output_type": "execute_result"
    }
   ],
   "source": [
    "geo.geoparse('Ammarnäs, Sweden')"
   ]
  },
  {
   "cell_type": "code",
   "execution_count": 10,
   "metadata": {},
   "outputs": [
    {
     "data": {
      "text/plain": [
       "[]"
      ]
     },
     "execution_count": 10,
     "metadata": {},
     "output_type": "execute_result"
    }
   ],
   "source": [
    "geo.geoparse('Jämtland')"
   ]
  },
  {
   "cell_type": "code",
   "execution_count": 11,
   "metadata": {},
   "outputs": [
    {
     "data": {
      "text/plain": [
       "[{'word': 'Tapajós',\n",
       "  'spans': [{'start': 246, 'end': 253}],\n",
       "  'country_predicted': 'BRA',\n",
       "  'country_conf': 7.195573e-13},\n",
       " {'word': 'Tapajós',\n",
       "  'spans': [{'start': 282, 'end': 289}],\n",
       "  'country_predicted': 'BRA',\n",
       "  'country_conf': 7.195573e-13},\n",
       " {'word': 'Pará',\n",
       "  'spans': [{'start': 332, 'end': 336}],\n",
       "  'country_predicted': 'BRA',\n",
       "  'country_conf': 0.993103,\n",
       "  'geo': {'admin1': 'Pará',\n",
       "   'lat': '-4',\n",
       "   'lon': '-53',\n",
       "   'country_code3': 'BRA',\n",
       "   'geonameid': '3393129',\n",
       "   'place_name': 'Pará',\n",
       "   'feature_class': 'A',\n",
       "   'feature_code': 'ADM1'}},\n",
       " {'word': 'Brazil',\n",
       "  'spans': [{'start': 338, 'end': 344}],\n",
       "  'country_predicted': 'BRA',\n",
       "  'country_conf': 0.9998105,\n",
       "  'geo': {'admin1': 'NA',\n",
       "   'lat': '-10',\n",
       "   'lon': '-55',\n",
       "   'country_code3': 'BRA',\n",
       "   'geonameid': '3469034',\n",
       "   'place_name': 'Federative Republic of Brazil',\n",
       "   'feature_class': 'A',\n",
       "   'feature_code': 'PCLI'}}]"
      ]
     },
     "execution_count": 11,
     "metadata": {},
     "output_type": "execute_result"
    }
   ],
   "source": [
    "geo.geoparse(\"Research was conducted in the Tapajós National Forest (henceforth Tapajós Forest), a 560,000 ha area managed by the Instituto Brasileiro de Meio Ambiente e Recursos Naturais Renovaveis. The Tapajós Forest is located on the east bank of the lower Tapajós River near the mouth of the Tapajós River in the western part of the state of Pará, Brazil (see map in .\")"
   ]
  },
  {
   "cell_type": "code",
   "execution_count": 12,
   "metadata": {},
   "outputs": [
    {
     "data": {
      "text/plain": [
       "[{'word': 'Republic of Ireland',\n",
       "  'spans': [{'start': 270, 'end': 289}],\n",
       "  'country_predicted': 'IRL',\n",
       "  'country_conf': 1.0057789e-07},\n",
       " {'word': 'Ireland',\n",
       "  'spans': [{'start': 706, 'end': 713}],\n",
       "  'country_predicted': 'IRL',\n",
       "  'country_conf': 0.9990895,\n",
       "  'geo': {'admin1': 'NA',\n",
       "   'lat': '53',\n",
       "   'lon': '-8',\n",
       "   'country_code3': 'IRL',\n",
       "   'geonameid': '2963597',\n",
       "   'place_name': 'Ireland',\n",
       "   'feature_class': 'A',\n",
       "   'feature_code': 'PCLI'}}]"
      ]
     },
     "execution_count": 12,
     "metadata": {},
     "output_type": "execute_result"
    }
   ],
   "source": [
    "geo.geoparse(\"Ten matched pairs of organic (managed according to the European Union Regulation 2092/91/EEC) and conventional (not managed according to organic regulations) dairy farms were selected in lowland permanent grassland (not ploughed or reseeded for at least 7 years) in the Republic of Ireland. Only dairy farms were chosen as effects of dairy versus drystock farming on biodiversity can differ substantially [10]. Organic farms had been certified for 10.5 years on average (range: 6–19 years), following a 2 year conversion period. Pairs were matched on geology, soil type and climatic similarity. Farms within a pair were 1–4 km apart, in landscapes dominated by conventional farming in central and southern Ireland (Fig. 1).\")"
   ]
  },
  {
   "cell_type": "code",
   "execution_count": 13,
   "metadata": {},
   "outputs": [
    {
     "data": {
      "text/plain": [
       "[{'word': 'Ireland',\n",
       "  'spans': [{'start': 21, 'end': 28}],\n",
       "  'country_predicted': 'IRL',\n",
       "  'country_conf': 0.9990895,\n",
       "  'geo': {'admin1': 'NA',\n",
       "   'lat': '53',\n",
       "   'lon': '-8',\n",
       "   'country_code3': 'IRL',\n",
       "   'geonameid': '2963597',\n",
       "   'place_name': 'Ireland',\n",
       "   'feature_class': 'A',\n",
       "   'feature_code': 'PCLI'}}]"
      ]
     },
     "execution_count": 13,
     "metadata": {},
     "output_type": "execute_result"
    }
   ],
   "source": [
    "geo.geoparse(\"central and southern Ireland\")"
   ]
  },
  {
   "cell_type": "code",
   "execution_count": 14,
   "metadata": {},
   "outputs": [
    {
     "data": {
      "text/plain": [
       "[{'word': 'Las Cruces Biological Station',\n",
       "  'spans': [{'start': 83, 'end': 112}],\n",
       "  'country_predicted': 'USA',\n",
       "  'country_conf': 1.8232967e-09},\n",
       " {'word': 'Coto Brus',\n",
       "  'spans': [{'start': 116, 'end': 125}],\n",
       "  'country_predicted': 'KIR',\n",
       "  'country_conf': 1.8232967e-09},\n",
       " {'word': 'Costa Rica',\n",
       "  'spans': [{'start': 145, 'end': 155}],\n",
       "  'country_predicted': 'CRI',\n",
       "  'country_conf': 0.9998105,\n",
       "  'geo': {'admin1': 'NA',\n",
       "   'lat': '10',\n",
       "   'lon': '-84',\n",
       "   'country_code3': 'CRI',\n",
       "   'geonameid': '3624060',\n",
       "   'place_name': 'Republic of Costa Rica',\n",
       "   'feature_class': 'A',\n",
       "   'feature_code': 'PCLI'}}]"
      ]
     },
     "execution_count": 14,
     "metadata": {},
     "output_type": "execute_result"
    }
   ],
   "source": [
    "geo.geoparse(\"This study was conducted from 26 August to 2 October 2007 in a restoration site at Las Cruces Biological Station in Coto Brus County in southern Costa Rica (8°47 0 7 N, 82°57 0 32 W; rainfall 4000 mm/yr; LCBS 2011)\")"
   ]
  },
  {
   "cell_type": "code",
   "execution_count": 15,
   "metadata": {},
   "outputs": [
    {
     "data": {
      "text/plain": [
       "[{'word': 'Gabon',\n",
       "  'spans': [{'start': 123, 'end': 128}],\n",
       "  'country_predicted': 'GAB',\n",
       "  'country_conf': 0.9998105,\n",
       "  'geo': {'admin1': 'NA',\n",
       "   'lat': '-1',\n",
       "   'lon': '11.75',\n",
       "   'country_code3': 'GAB',\n",
       "   'geonameid': '2400553',\n",
       "   'place_name': 'Gabonese Republic',\n",
       "   'feature_class': 'A',\n",
       "   'feature_code': 'PCLI'}}]"
      ]
     },
     "execution_count": 15,
     "metadata": {},
     "output_type": "execute_result"
    }
   ],
   "source": [
    "geo.geoparse(\"The study area was in the Shell Gabon oil concession of Gamba, within the Gamba complex of protected areas in southeastern Gabon\")"
   ]
  },
  {
   "cell_type": "code",
   "execution_count": 16,
   "metadata": {},
   "outputs": [
    {
     "data": {
      "text/plain": [
       "[{'word': 'Djupfors',\n",
       "  'spans': [{'start': 90, 'end': 98}],\n",
       "  'country_predicted': 'SWE',\n",
       "  'country_conf': 0.9375071,\n",
       "  'geo': {'admin1': 'Västerbotten',\n",
       "   'lat': '65.88333',\n",
       "   'lon': '16.35',\n",
       "   'country_code3': 'SWE',\n",
       "   'geonameid': '2717649',\n",
       "   'place_name': 'Djupfors',\n",
       "   'feature_class': 'P',\n",
       "   'feature_code': 'PPL'}}]"
      ]
     },
     "execution_count": 16,
     "metadata": {},
     "output_type": "execute_result"
    }
   ],
   "source": [
    "geo.geoparse(\"The plots were located about 16 km SSE of Ammarnäs and 6 to 9 km south of the village of Djupfors\")"
   ]
  },
  {
   "cell_type": "code",
   "execution_count": 18,
   "metadata": {},
   "outputs": [
    {
     "data": {
      "text/plain": [
       "[{'word': 'York',\n",
       "  'spans': [{'start': 0, 'end': 4}],\n",
       "  'country_predicted': 'CAN',\n",
       "  'country_conf': 0.090303004},\n",
       " {'word': 'UK',\n",
       "  'spans': [{'start': 6, 'end': 8}],\n",
       "  'country_predicted': 'GBR',\n",
       "  'country_conf': 0.9998105,\n",
       "  'geo': {'admin1': 'NA',\n",
       "   'lat': '54.75844',\n",
       "   'lon': '-2.69531',\n",
       "   'country_code3': 'GBR',\n",
       "   'geonameid': '2635167',\n",
       "   'place_name': 'United Kingdom of Great Britain and Northern Ireland',\n",
       "   'feature_class': 'A',\n",
       "   'feature_code': 'PCLI'}}]"
      ]
     },
     "execution_count": 18,
     "metadata": {},
     "output_type": "execute_result"
    }
   ],
   "source": [
    "geo.geoparse(\"York, UK\")"
   ]
  },
  {
   "cell_type": "code",
   "execution_count": null,
   "metadata": {},
   "outputs": [],
   "source": []
  }
 ],
 "metadata": {
  "file_extension": ".py",
  "kernelspec": {
   "display_name": "'Python Interactive'",
   "language": "python",
   "name": "920ff419-e4f8-4b31-9b98-65652ff93231"
  },
  "language_info": {
   "codemirror_mode": {
    "name": "ipython",
    "version": 3
   },
   "file_extension": ".py",
   "mimetype": "text/x-python",
   "name": "python",
   "nbconvert_exporter": "python",
   "pygments_lexer": "ipython3",
   "version": "3.7.3"
  },
  "mimetype": "text/x-python",
  "name": "python",
  "npconvert_exporter": "python",
  "pygments_lexer": "ipython3",
  "version": 3
 },
 "nbformat": 4,
 "nbformat_minor": 4
}
