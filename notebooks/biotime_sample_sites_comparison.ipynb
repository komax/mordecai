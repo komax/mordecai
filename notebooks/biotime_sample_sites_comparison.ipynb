{
 "cells": [
  {
   "cell_type": "code",
   "execution_count": 1,
   "metadata": {},
   "outputs": [
    {
     "name": "stdout",
     "output_type": "stream",
     "text": [
      "edd25337ffa30514c7be1c15930fb458a9fd640073b695f0baa0d56b5bc257a6\n"
     ]
    }
   ],
   "source": [
    "! docker run -d -p 127.0.0.1:9200:9200 -v $(pwd)/geonames_index/:/usr/share/elasticsearch/data elasticsearch:5.5.2"
   ]
  },
  {
   "cell_type": "code",
   "execution_count": 4,
   "metadata": {},
   "outputs": [],
   "source": [
    "from mordecai import Geoparser\n",
    "geo = Geoparser()"
   ]
  },
  {
   "cell_type": "code",
   "execution_count": 5,
   "metadata": {},
   "outputs": [],
   "source": [
    "biotime_sample_sites = {\n",
    "    \"Anderson et al. - 2011\": \"This historical data set consists of 44 permanent 1-m 2 quadrats located on northern mixed prairie in Miles City, Montana, USA.\",\n",
    "    \"Farah et al. - 2014\": \"The municipal reserve of Santa Genebra (MRSG) has a total area of 251.77 ha and constitutes one of the major remnants of Seasonal Semideciduous Forest (a subtype of Atlantic Forest) in the state of São Paulo. It is a fragment isolated from other forests and surrounded by agricultural areas and residential neighborhoods. The local climate is of the Cwa type, defined as hot and humid, with dry winters and hot, rainy summers.\",\n",
    "    \"Holmes et al. - 1986\": \"This study was conducted in the Hubbard Brook Experimental Forest, a 3076-ha sector of the White Mountain National Forest, West Thornton Grafton County, but showed no increasing or decreasing trends over the 16 yr of the study (Fig. 1). Periods of cool, wet weather often occurred during May and early June, while thunderstorms, accompanied by heavy rains, high winds, and sometimes hail, were more common in late June and July.\",\n",
    "    \"Rocha et al. - 2017\": \"Fieldwork was conducted at the BDFFP, located *80 km north of Manaus (2°30 0 S, 60°W), Brazil (see Fig. S1 in the Online Supplementary Material). The area is classified as tropical moist forest, and is characterized by a mosaic of terra firme rainforest, secondary regrowth, and primary forest fragments. Annual rainfall varies from 1900 to 3500 mm, with a dry season between June and October . The forest fragments were isolated from CF by distances of 80-650 m in the early 1980s, and are categorized into size classes of 1, 10 and 100 ha. Each fragment was re-isolated on 3-4 occasions prior to this study, most recently between 1999 and 2001 (Laurance et al. 2011). The matrix is composed of tall secondary forest dominated mainly by Vismia spp. and Cecropia spp.\",\n",
    "    \"Thomsen et al. - 2016\": \"A modified Robinson light trap was installed 17Á5 m above ground at the roof of the Zoological Museum in Copenhagen, Denmark (N 55Á702512°, E 12Á558956°). A 250 W mercury vapour bulb was used as light source. In the trap, 1,1,2,2-tetrachlorethane was used as killing agent. The trap was emptied on an approximately weekly basis and was active from AprilNovember 1992-2009. All individual records of Lepidoptera and Coleoptera were collected, identified to species level and counted yielding qualitative (species) and quantitative (number of individuals within each species) data for the entire study period. All handling and identification of material was carried out consistently throughout the entire period by the same three persons: for Lepidoptera (OK) and Coleoptera (initiated by the late Dr. Michael Hansen and completed by JP). The final data set was subjected to a thorough quality check, and the few records (&lt;20 individual records) that could not be accounted for by comparison of collection periods were discarded. We excluded the first (1992) and the last year (2009) of the data set to minimize start-up effects (operating the trap in a standardized manner comparable to the remainder of the study period) and influence from alteration of the local habitat in 2009. Furthermore, in 1992 and 2009 the trap was not active in the entire season. To account for variation in sampling intervals, we grouped the data set into standardized 10-day periods the first starting on 1st of January (Julian Day 1) and the last period ending on December 26 (Julian Day 360). The 10-day interval is slightly longer than the mean sampling interval of 7 days.\",\n",
    "    \"Woods - 2009\": \"Established in 1935, a regular grid of 256 permanent plots includes about 20% of a 100-ha old-growth forest at the Dukes Research Natural Area in northern Michigan, USA. Woody stems have been re-measured 3-7 times providing extensive quantitative records of population and community dynamics over periods of up to 72 years. Woody stems in upland hemlock-northern hardwood stands, about half of the study plots, have been mapped and individually tracked since about 1990.\"\n",
    "}\n"
   ]
  },
  {
   "cell_type": "code",
   "execution_count": 22,
   "metadata": {},
   "outputs": [],
   "source": [
    "bitome_actual_sites_from_metadata = {\n",
    "    \"Anderson et al. - 2011\": {\n",
    "        \"study_id\": 473,\n",
    "        \"cent_latitude\": 46.316667,\n",
    "        \"cent_longitude\": -105.8 \n",
    "    },\n",
    "    \"Farah et al. - 2014\": {\n",
    "        \"study_id\": 322,\n",
    "        \"cent_latitude\": -22.825,\n",
    "        \"cent_longitude\": -47.1058\n",
    "    },\n",
    "    \"Holmes et al. - 1986\": {\n",
    "        \"study_id\": 39,\n",
    "        \"cent_latitude\": 43.91,\n",
    "        \"cent_longitude\": -71.75\n",
    "    },\n",
    "    \"Rocha et al. - 2017\": {\n",
    "        \"study_id\": 516,\n",
    "        \"cent_latitude\": -2.386381,\n",
    "        \"cent_longitude\": -59.918769\n",
    "    },\n",
    "    \"Thomsen et al. - 2016\": {\n",
    "        \"study_id\": 249,\n",
    "        \"cent_latitude\": 55.702512,\n",
    "        \"cent_longitude\": 12.558956\n",
    "    },\n",
    "    \"Woods - 2009\": {\n",
    "        \"study_id\": 255,\n",
    "        \"cent_latitude\": 46.3667,\n",
    "        \"cent_longitude\": -87.1333\n",
    "    }\n",
    "}"
   ]
  },
  {
   "cell_type": "code",
   "execution_count": 7,
   "metadata": {},
   "outputs": [
    {
     "data": {
      "text/plain": [
       "dict_values(['This historical data set consists of 44 permanent 1-m 2 quadrats located on northern mixed prairie in Miles City, Montana, USA.', 'The municipal reserve of Santa Genebra (MRSG) has a total area of 251.77 ha and constitutes one of the major remnants of Seasonal Semideciduous Forest (a subtype of Atlantic Forest) in the state of São Paulo. It is a fragment isolated from other forests and surrounded by agricultural areas and residential neighborhoods. The local climate is of the Cwa type, defined as hot and humid, with dry winters and hot, rainy summers.', 'This study was conducted in the Hubbard Brook Experimental Forest, a 3076-ha sector of the White Mountain National Forest, West Thornton Grafton County, but showed no increasing or decreasing trends over the 16 yr of the study (Fig. 1). Periods of cool, wet weather often occurred during May and early June, while thunderstorms, accompanied by heavy rains, high winds, and sometimes hail, were more common in late June and July.', 'Fieldwork was conducted at the BDFFP, located *80 km north of Manaus (2°30 0 S, 60°W), Brazil (see Fig. S1 in the Online Supplementary Material). The area is classified as tropical moist forest, and is characterized by a mosaic of terra firme rainforest, secondary regrowth, and primary forest fragments. Annual rainfall varies from 1900 to 3500 mm, with a dry season between June and October . The forest fragments were isolated from CF by distances of 80-650 m in the early 1980s, and are categorized into size classes of 1, 10 and 100 ha. Each fragment was re-isolated on 3-4 occasions prior to this study, most recently between 1999 and 2001 (Laurance et al. 2011). The matrix is composed of tall secondary forest dominated mainly by Vismia spp. and Cecropia spp.', 'A modified Robinson light trap was installed 17Á5 m above ground at the roof of the Zoological Museum in Copenhagen, Denmark (N 55Á702512°, E 12Á558956°). A 250 W mercury vapour bulb was used as light source. In the trap, 1,1,2,2-tetrachlorethane was used as killing agent. The trap was emptied on an approximately weekly basis and was active from AprilNovember 1992-2009. All individual records of Lepidoptera and Coleoptera were collected, identified to species level and counted yielding qualitative (species) and quantitative (number of individuals within each species) data for the entire study period. All handling and identification of material was carried out consistently throughout the entire period by the same three persons: for Lepidoptera (OK) and Coleoptera (initiated by the late Dr. Michael Hansen and completed by JP). The final data set was subjected to a thorough quality check, and the few records (&lt;20 individual records) that could not be accounted for by comparison of collection periods were discarded. We excluded the first (1992) and the last year (2009) of the data set to minimize start-up effects (operating the trap in a standardized manner comparable to the remainder of the study period) and influence from alteration of the local habitat in 2009. Furthermore, in 1992 and 2009 the trap was not active in the entire season. To account for variation in sampling intervals, we grouped the data set into standardized 10-day periods the first starting on 1st of January (Julian Day 1) and the last period ending on December 26 (Julian Day 360). The 10-day interval is slightly longer than the mean sampling interval of 7 days.', 'Established in 1935, a regular grid of 256 permanent plots includes about 20% of a 100-ha old-growth forest at the Dukes Research Natural Area in northern Michigan, USA. Woody stems have been re-measured 3-7 times providing extensive quantitative records of population and community dynamics over periods of up to 72 years. Woody stems in upland hemlock-northern hardwood stands, about half of the study plots, have been mapped and individually tracked since about 1990.'])"
      ]
     },
     "execution_count": 7,
     "metadata": {},
     "output_type": "execute_result"
    }
   ],
   "source": [
    "texts = biotime_sample_sites.values()\n",
    "texts"
   ]
  },
  {
   "cell_type": "code",
   "execution_count": 8,
   "metadata": {},
   "outputs": [
    {
     "data": {
      "text/plain": [
       "[{'word': 'Miles City',\n",
       "  'spans': [{'start': 102, 'end': 112}],\n",
       "  'country_predicted': 'USA',\n",
       "  'country_conf': 0.999931,\n",
       "  'geo': {'admin1': 'Montana',\n",
       "   'lat': '46.40834',\n",
       "   'lon': '-105.84056',\n",
       "   'country_code3': 'USA',\n",
       "   'geonameid': '5666176',\n",
       "   'place_name': 'Miles City',\n",
       "   'feature_class': 'P',\n",
       "   'feature_code': 'PPLA2'}},\n",
       " {'word': 'Montana',\n",
       "  'spans': [{'start': 114, 'end': 121}],\n",
       "  'country_predicted': 'USA',\n",
       "  'country_conf': 0.9991698,\n",
       "  'geo': {'admin1': 'Montana',\n",
       "   'lat': '47.00025',\n",
       "   'lon': '-109.75102',\n",
       "   'country_code3': 'USA',\n",
       "   'geonameid': '5667009',\n",
       "   'place_name': 'Montana',\n",
       "   'feature_class': 'A',\n",
       "   'feature_code': 'ADM1'}},\n",
       " {'word': 'USA',\n",
       "  'spans': [{'start': 123, 'end': 126}],\n",
       "  'country_predicted': 'USA',\n",
       "  'country_conf': 0.999931,\n",
       "  'geo': {'admin1': 'California',\n",
       "   'lat': '34.00474',\n",
       "   'lon': '-117.33588',\n",
       "   'country_code3': 'USA',\n",
       "   'geonameid': '7195491',\n",
       "   'place_name': 'Sgi-Usa Riverside Community Center',\n",
       "   'feature_class': 'S',\n",
       "   'feature_code': 'BLDG'}}]"
      ]
     },
     "execution_count": 8,
     "metadata": {},
     "output_type": "execute_result"
    }
   ],
   "source": [
    "geo.geoparse(next(iter(texts)))"
   ]
  },
  {
   "cell_type": "code",
   "execution_count": 9,
   "metadata": {},
   "outputs": [
    {
     "data": {
      "text/plain": [
       "[{'text': 'Miles City',\n",
       "  'label': 'United States',\n",
       "  'word': 'Miles City',\n",
       "  'spans': [{'start': 102, 'end': 112}],\n",
       "  'features': {'maj_vote': 'USA',\n",
       "   'word_vec': 'USA',\n",
       "   'first_back': 'USA',\n",
       "   'most_alt': 'USA',\n",
       "   'most_pop': 'USA',\n",
       "   'ct_mention': 'USA',\n",
       "   'ctm_count1': 2,\n",
       "   'ct_mention2': '',\n",
       "   'ctm_count2': 0,\n",
       "   'wv_confid': 17.08477783203125,\n",
       "   'class_mention': 'P',\n",
       "   'code_mention': ''},\n",
       "  'country_predicted': 'USA',\n",
       "  'country_conf': 0.999931,\n",
       "  'all_countries': array(['USA'], dtype='<U3'),\n",
       "  'all_confidence': array([0.999931], dtype=float32)},\n",
       " {'text': 'Montana',\n",
       "  'label': 'United States',\n",
       "  'word': 'Montana',\n",
       "  'spans': [{'start': 114, 'end': 121}],\n",
       "  'features': {'maj_vote': 'USA',\n",
       "   'word_vec': 'USA',\n",
       "   'first_back': 'ESP',\n",
       "   'most_alt': 'USA',\n",
       "   'most_pop': 'USA',\n",
       "   'ct_mention': 'USA',\n",
       "   'ctm_count1': 2,\n",
       "   'ct_mention2': '',\n",
       "   'ctm_count2': 0,\n",
       "   'wv_confid': 46.95623016357422,\n",
       "   'class_mention': '',\n",
       "   'code_mention': ''},\n",
       "  'country_predicted': 'USA',\n",
       "  'country_conf': 0.9991698,\n",
       "  'all_countries': array(['USA', 'ESP'], dtype='<U3'),\n",
       "  'all_confidence': array([9.9916983e-01, 1.7389722e-05], dtype=float32)},\n",
       " {'text': 'USA',\n",
       "  'label': 'United States',\n",
       "  'word': 'USA',\n",
       "  'spans': [{'start': 123, 'end': 126}],\n",
       "  'features': {'maj_vote': 'USA',\n",
       "   'word_vec': 'USA',\n",
       "   'first_back': 'USA',\n",
       "   'most_alt': 'USA',\n",
       "   'most_pop': 'USA',\n",
       "   'ct_mention': 'USA',\n",
       "   'ctm_count1': 2,\n",
       "   'ct_mention2': '',\n",
       "   'ctm_count2': 0,\n",
       "   'wv_confid': 40.69401550292969,\n",
       "   'class_mention': 'A',\n",
       "   'code_mention': 'PCLI'},\n",
       "  'country_predicted': 'USA',\n",
       "  'country_conf': 0.999931,\n",
       "  'all_countries': array(['USA'], dtype='<U3'),\n",
       "  'all_confidence': array([0.999931], dtype=float32)}]"
      ]
     },
     "execution_count": 9,
     "metadata": {},
     "output_type": "execute_result"
    }
   ],
   "source": [
    "geo.infer_country(next(iter(texts)))"
   ]
  },
  {
   "cell_type": "code",
   "execution_count": 10,
   "metadata": {},
   "outputs": [
    {
     "name": "stdout",
     "output_type": "stream",
     "text": [
      "/usr/bin/fish\n"
     ]
    }
   ],
   "source": [
    "!echo $SHELL"
   ]
  },
  {
   "cell_type": "code",
   "execution_count": 12,
   "metadata": {},
   "outputs": [],
   "source": [
    "computed_geolocation_rocha = geo.geoparse(biotime_sample_sites[\"Rocha et al. - 2017\"])"
   ]
  },
  {
   "cell_type": "code",
   "execution_count": 16,
   "metadata": {},
   "outputs": [
    {
     "data": {
      "text/plain": [
       "[{'word': 'Manaus',\n",
       "  'spans': [{'start': 62, 'end': 68}],\n",
       "  'country_predicted': 'BRA',\n",
       "  'country_conf': 0.993103,\n",
       "  'geo': {'admin1': 'Amazonas',\n",
       "   'lat': '-3.04361',\n",
       "   'lon': '-60.01282',\n",
       "   'country_code3': 'BRA',\n",
       "   'geonameid': '6319328',\n",
       "   'place_name': 'Manaus',\n",
       "   'feature_class': 'A',\n",
       "   'feature_code': 'ADM2'}},\n",
       " {'word': 'Brazil',\n",
       "  'spans': [{'start': 87, 'end': 93}],\n",
       "  'country_predicted': 'BRA',\n",
       "  'country_conf': 0.9998105,\n",
       "  'geo': {'admin1': 'NA',\n",
       "   'lat': '-10',\n",
       "   'lon': '-55',\n",
       "   'country_code3': 'BRA',\n",
       "   'geonameid': '3469034',\n",
       "   'place_name': 'Federative Republic of Brazil',\n",
       "   'feature_class': 'A',\n",
       "   'feature_code': 'PCLI'}}]"
      ]
     },
     "execution_count": 16,
     "metadata": {},
     "output_type": "execute_result"
    }
   ],
   "source": [
    "computed_geolocation_rocha"
   ]
  },
  {
   "cell_type": "code",
   "execution_count": 32,
   "metadata": {},
   "outputs": [
    {
     "data": {
      "text/plain": [
       "(-3.04361, -60.01282)"
      ]
     },
     "execution_count": 32,
     "metadata": {},
     "output_type": "execute_result"
    }
   ],
   "source": [
    "computed_latitude, computed_longitude = float(computed_geolocation_rocha[0]['geo']['lat']), float(computed_geolocation_rocha[0]['geo']['lon'])\n",
    "computed_latitude, computed_longitude"
   ]
  },
  {
   "cell_type": "code",
   "execution_count": 33,
   "metadata": {},
   "outputs": [
    {
     "data": {
      "text/plain": [
       "(-2.386381, -59.918769)"
      ]
     },
     "execution_count": 33,
     "metadata": {},
     "output_type": "execute_result"
    }
   ],
   "source": [
    "actual_latitude, actual_longitude = bitome_actual_sites_from_metadata[\"Rocha et al. - 2017\"][\"cent_latitude\"], bitome_actual_sites_from_metadata[\"Rocha et al. - 2017\"][\"cent_longitude\"]\n",
    "actual_latitude, actual_longitude"
   ]
  },
  {
   "cell_type": "code",
   "execution_count": 34,
   "metadata": {},
   "outputs": [],
   "source": [
    "from geopy import distance"
   ]
  },
  {
   "cell_type": "code",
   "execution_count": 37,
   "metadata": {},
   "outputs": [
    {
     "data": {
      "text/plain": [
       "Distance(73.42287288501343)"
      ]
     },
     "execution_count": 37,
     "metadata": {},
     "output_type": "execute_result"
    }
   ],
   "source": [
    "distance.distance((computed_latitude, computed_longitude), (actual_latitude, actual_longitude))"
   ]
  },
  {
   "cell_type": "code",
   "execution_count": null,
   "metadata": {},
   "outputs": [],
   "source": []
  }
 ],
 "metadata": {
  "file_extension": ".py",
  "kernelspec": {
   "display_name": "Python 3",
   "language": "python",
   "name": "python3"
  },
  "language_info": {
   "codemirror_mode": {
    "name": "ipython",
    "version": 3
   },
   "file_extension": ".py",
   "mimetype": "text/x-python",
   "name": "python",
   "nbconvert_exporter": "python",
   "pygments_lexer": "ipython3",
   "version": "3.6.7"
  },
  "mimetype": "text/x-python",
  "name": "python",
  "npconvert_exporter": "python",
  "pygments_lexer": "ipython3",
  "version": 3
 },
 "nbformat": 4,
 "nbformat_minor": 4
}
