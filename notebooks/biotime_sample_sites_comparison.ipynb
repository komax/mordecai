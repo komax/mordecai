{
 "cells": [
  {
   "cell_type": "markdown",
   "metadata": {},
   "source": [
    "# Compare geocoding results with curated geopositions\n",
    "- Make use of BioTIME database and mordecai\n",
    "- Calculate the geodesic distance between computed geoposition and curated longitude, latitude coordinates"
   ]
  },
  {
   "cell_type": "markdown",
   "metadata": {},
   "source": [
    "Ensure to reload Python scripts dynamically"
   ]
  },
  {
   "cell_type": "code",
   "execution_count": 1,
   "metadata": {},
   "outputs": [],
   "source": [
    "%load_ext autoreload\n",
    "%autoreload 2"
   ]
  },
  {
   "cell_type": "markdown",
   "metadata": {},
   "source": [
    "Set up mordecai's geoparser"
   ]
  },
  {
   "cell_type": "code",
   "execution_count": 2,
   "metadata": {},
   "outputs": [
    {
     "name": "stderr",
     "output_type": "stream",
     "text": [
      "Using TensorFlow backend.\n",
      "/anaconda3/envs/mordecai/lib/python3.6/site-packages/tensorflow/python/framework/dtypes.py:526: FutureWarning: Passing (type, 1) or '1type' as a synonym of type is deprecated; in a future version of numpy, it will be understood as (type, (1,)) / '(1,)type'.\n",
      "  _np_qint8 = np.dtype([(\"qint8\", np.int8, 1)])\n",
      "/anaconda3/envs/mordecai/lib/python3.6/site-packages/tensorflow/python/framework/dtypes.py:527: FutureWarning: Passing (type, 1) or '1type' as a synonym of type is deprecated; in a future version of numpy, it will be understood as (type, (1,)) / '(1,)type'.\n",
      "  _np_quint8 = np.dtype([(\"quint8\", np.uint8, 1)])\n",
      "/anaconda3/envs/mordecai/lib/python3.6/site-packages/tensorflow/python/framework/dtypes.py:528: FutureWarning: Passing (type, 1) or '1type' as a synonym of type is deprecated; in a future version of numpy, it will be understood as (type, (1,)) / '(1,)type'.\n",
      "  _np_qint16 = np.dtype([(\"qint16\", np.int16, 1)])\n",
      "/anaconda3/envs/mordecai/lib/python3.6/site-packages/tensorflow/python/framework/dtypes.py:529: FutureWarning: Passing (type, 1) or '1type' as a synonym of type is deprecated; in a future version of numpy, it will be understood as (type, (1,)) / '(1,)type'.\n",
      "  _np_quint16 = np.dtype([(\"quint16\", np.uint16, 1)])\n",
      "/anaconda3/envs/mordecai/lib/python3.6/site-packages/tensorflow/python/framework/dtypes.py:530: FutureWarning: Passing (type, 1) or '1type' as a synonym of type is deprecated; in a future version of numpy, it will be understood as (type, (1,)) / '(1,)type'.\n",
      "  _np_qint32 = np.dtype([(\"qint32\", np.int32, 1)])\n",
      "/anaconda3/envs/mordecai/lib/python3.6/site-packages/tensorflow/python/framework/dtypes.py:535: FutureWarning: Passing (type, 1) or '1type' as a synonym of type is deprecated; in a future version of numpy, it will be understood as (type, (1,)) / '(1,)type'.\n",
      "  np_resource = np.dtype([(\"resource\", np.ubyte, 1)])\n"
     ]
    },
    {
     "name": "stdout",
     "output_type": "stream",
     "text": [
      "WARNING:tensorflow:From /anaconda3/envs/mordecai/lib/python3.6/site-packages/tensorflow/python/framework/op_def_library.py:263: colocate_with (from tensorflow.python.framework.ops) is deprecated and will be removed in a future version.\n",
      "Instructions for updating:\n",
      "Colocations handled automatically by placer.\n",
      "WARNING:tensorflow:From /anaconda3/envs/mordecai/lib/python3.6/site-packages/keras/backend/tensorflow_backend.py:3445: calling dropout (from tensorflow.python.ops.nn_ops) with keep_prob is deprecated and will be removed in a future version.\n",
      "Instructions for updating:\n",
      "Please use `rate` instead of `keep_prob`. Rate should be set to `rate = 1 - keep_prob`.\n",
      "WARNING:tensorflow:From /anaconda3/envs/mordecai/lib/python3.6/site-packages/tensorflow/python/ops/math_ops.py:3066: to_int32 (from tensorflow.python.ops.math_ops) is deprecated and will be removed in a future version.\n",
      "Instructions for updating:\n",
      "Use tf.cast instead.\n"
     ]
    }
   ],
   "source": [
    "from mordecai import Geoparser\n",
    "geo = Geoparser()"
   ]
  },
  {
   "cell_type": "markdown",
   "metadata": {},
   "source": [
    "Load examples from biotime via a Python helper"
   ]
  },
  {
   "cell_type": "code",
   "execution_count": 3,
   "metadata": {},
   "outputs": [],
   "source": [
    "import biotime_examples"
   ]
  },
  {
   "cell_type": "markdown",
   "metadata": {},
   "source": [
    "Show all examples"
   ]
  },
  {
   "cell_type": "code",
   "execution_count": 4,
   "metadata": {},
   "outputs": [
    {
     "data": {
      "text/plain": [
       "dict_keys(['Anderson et al. - 2011', 'Farah et al. - 2014', 'Holmes et al. - 1986', 'Rocha et al. - 2017', 'Thomsen et al. - 2016', 'Woods - 2009'])"
      ]
     },
     "execution_count": 4,
     "metadata": {},
     "output_type": "execute_result"
    }
   ],
   "source": [
    "biotime_examples.biotime_sample_sites.keys()"
   ]
  },
  {
   "cell_type": "markdown",
   "metadata": {},
   "source": [
    "Prepare a text for geocoding"
   ]
  },
  {
   "cell_type": "code",
   "execution_count": 5,
   "metadata": {},
   "outputs": [
    {
     "data": {
      "text/plain": [
       "'This historical data set consists of 44 permanent 1-m 2 quadrats located on northern mixed prairie in Miles City, Montana, USA.'"
      ]
     },
     "execution_count": 5,
     "metadata": {},
     "output_type": "execute_result"
    }
   ],
   "source": [
    "text = biotime_examples.biotime_sample_sites['Anderson et al. - 2011']\n",
    "text"
   ]
  },
  {
   "cell_type": "markdown",
   "metadata": {},
   "source": [
    "Geocoding of the entire text and show the resulting list of locations\n"
   ]
  },
  {
   "cell_type": "code",
   "execution_count": 6,
   "metadata": {},
   "outputs": [
    {
     "data": {
      "text/plain": [
       "[{'word': 'Miles City',\n",
       "  'spans': [{'start': 102, 'end': 112}],\n",
       "  'country_predicted': 'USA',\n",
       "  'country_conf': 0.999931,\n",
       "  'geo': {'admin1': 'Montana',\n",
       "   'lat': '46.40834',\n",
       "   'lon': '-105.84056',\n",
       "   'country_code3': 'USA',\n",
       "   'geonameid': '5666176',\n",
       "   'place_name': 'Miles City',\n",
       "   'feature_class': 'P',\n",
       "   'feature_code': 'PPLA2'}},\n",
       " {'word': 'Montana',\n",
       "  'spans': [{'start': 114, 'end': 121}],\n",
       "  'country_predicted': 'USA',\n",
       "  'country_conf': 0.9991698,\n",
       "  'geo': {'admin1': 'Montana',\n",
       "   'lat': '47.00025',\n",
       "   'lon': '-109.75102',\n",
       "   'country_code3': 'USA',\n",
       "   'geonameid': '5667009',\n",
       "   'place_name': 'Montana',\n",
       "   'feature_class': 'A',\n",
       "   'feature_code': 'ADM1'}},\n",
       " {'word': 'USA',\n",
       "  'spans': [{'start': 123, 'end': 126}],\n",
       "  'country_predicted': 'USA',\n",
       "  'country_conf': 0.999931,\n",
       "  'geo': {'admin1': 'California',\n",
       "   'lat': '34.00474',\n",
       "   'lon': '-117.33588',\n",
       "   'country_code3': 'USA',\n",
       "   'geonameid': '7195491',\n",
       "   'place_name': 'Sgi-Usa Riverside Community Center',\n",
       "   'feature_class': 'S',\n",
       "   'feature_code': 'BLDG'}}]"
      ]
     },
     "execution_count": 6,
     "metadata": {},
     "output_type": "execute_result"
    }
   ],
   "source": [
    "geocoding_res = geo.geoparse(text)\n",
    "geocoding_res"
   ]
  },
  {
   "cell_type": "markdown",
   "metadata": {},
   "source": [
    "Infer the country of the sampling site"
   ]
  },
  {
   "cell_type": "code",
   "execution_count": 7,
   "metadata": {},
   "outputs": [
    {
     "data": {
      "text/plain": [
       "[{'text': 'Miles City',\n",
       "  'label': 'United States',\n",
       "  'word': 'Miles City',\n",
       "  'spans': [{'start': 102, 'end': 112}],\n",
       "  'features': {'maj_vote': 'USA',\n",
       "   'word_vec': 'USA',\n",
       "   'first_back': 'USA',\n",
       "   'most_alt': 'USA',\n",
       "   'most_pop': 'USA',\n",
       "   'ct_mention': 'USA',\n",
       "   'ctm_count1': 2,\n",
       "   'ct_mention2': '',\n",
       "   'ctm_count2': 0,\n",
       "   'wv_confid': 17.08477783203125,\n",
       "   'class_mention': 'P',\n",
       "   'code_mention': ''},\n",
       "  'country_predicted': 'USA',\n",
       "  'country_conf': 0.999931,\n",
       "  'all_countries': array(['USA'], dtype='<U3'),\n",
       "  'all_confidence': array([0.999931], dtype=float32)},\n",
       " {'text': 'Montana',\n",
       "  'label': 'United States',\n",
       "  'word': 'Montana',\n",
       "  'spans': [{'start': 114, 'end': 121}],\n",
       "  'features': {'maj_vote': 'USA',\n",
       "   'word_vec': 'USA',\n",
       "   'first_back': 'ESP',\n",
       "   'most_alt': 'USA',\n",
       "   'most_pop': 'USA',\n",
       "   'ct_mention': 'USA',\n",
       "   'ctm_count1': 2,\n",
       "   'ct_mention2': '',\n",
       "   'ctm_count2': 0,\n",
       "   'wv_confid': 46.95623016357422,\n",
       "   'class_mention': '',\n",
       "   'code_mention': ''},\n",
       "  'country_predicted': 'USA',\n",
       "  'country_conf': 0.9991698,\n",
       "  'all_countries': array(['USA', 'ESP'], dtype='<U3'),\n",
       "  'all_confidence': array([9.9916983e-01, 1.7389722e-05], dtype=float32)},\n",
       " {'text': 'USA',\n",
       "  'label': 'United States',\n",
       "  'word': 'USA',\n",
       "  'spans': [{'start': 123, 'end': 126}],\n",
       "  'features': {'maj_vote': 'USA',\n",
       "   'word_vec': 'USA',\n",
       "   'first_back': 'USA',\n",
       "   'most_alt': 'USA',\n",
       "   'most_pop': 'USA',\n",
       "   'ct_mention': 'USA',\n",
       "   'ctm_count1': 2,\n",
       "   'ct_mention2': '',\n",
       "   'ctm_count2': 0,\n",
       "   'wv_confid': 40.69401550292969,\n",
       "   'class_mention': 'A',\n",
       "   'code_mention': 'PCLI'},\n",
       "  'country_predicted': 'USA',\n",
       "  'country_conf': 0.999931,\n",
       "  'all_countries': array(['USA'], dtype='<U3'),\n",
       "  'all_confidence': array([0.999931], dtype=float32)}]"
      ]
     },
     "execution_count": 7,
     "metadata": {},
     "output_type": "execute_result"
    }
   ],
   "source": [
    "geo.infer_country(text)"
   ]
  },
  {
   "cell_type": "markdown",
   "metadata": {},
   "source": [
    "Geocoding for another study"
   ]
  },
  {
   "cell_type": "code",
   "execution_count": 8,
   "metadata": {},
   "outputs": [
    {
     "data": {
      "text/plain": [
       "[{'word': 'Manaus',\n",
       "  'spans': [{'start': 62, 'end': 68}],\n",
       "  'country_predicted': 'BRA',\n",
       "  'country_conf': 0.993103,\n",
       "  'geo': {'admin1': 'Amazonas',\n",
       "   'lat': '-3.04361',\n",
       "   'lon': '-60.01282',\n",
       "   'country_code3': 'BRA',\n",
       "   'geonameid': '6319328',\n",
       "   'place_name': 'Manaus',\n",
       "   'feature_class': 'A',\n",
       "   'feature_code': 'ADM2'}},\n",
       " {'word': 'Brazil',\n",
       "  'spans': [{'start': 87, 'end': 93}],\n",
       "  'country_predicted': 'BRA',\n",
       "  'country_conf': 0.9998105,\n",
       "  'geo': {'admin1': 'NA',\n",
       "   'lat': '-10',\n",
       "   'lon': '-55',\n",
       "   'country_code3': 'BRA',\n",
       "   'geonameid': '3469034',\n",
       "   'place_name': 'Federative Republic of Brazil',\n",
       "   'feature_class': 'A',\n",
       "   'feature_code': 'PCLI'}}]"
      ]
     },
     "execution_count": 8,
     "metadata": {},
     "output_type": "execute_result"
    }
   ],
   "source": [
    "example_rocha = biotime_examples.biotime_sample_sites[\"Rocha et al. - 2017\"]\n",
    "computed_geolocation_rocha = geo.geoparse(example_rocha)\n",
    "computed_geolocation_rocha"
   ]
  },
  {
   "cell_type": "markdown",
   "metadata": {},
   "source": [
    "Extract the GPS location from the geocoding result"
   ]
  },
  {
   "cell_type": "code",
   "execution_count": 9,
   "metadata": {},
   "outputs": [
    {
     "data": {
      "text/plain": [
       "(-3.04361, -60.01282)"
      ]
     },
     "execution_count": 9,
     "metadata": {},
     "output_type": "execute_result"
    }
   ],
   "source": [
    "from utils import extract_geolocation\n",
    "computed_latitude, computed_longitude = extract_geolocation(computed_geolocation_rocha)\n",
    "computed_latitude, computed_longitude"
   ]
  },
  {
   "cell_type": "markdown",
   "metadata": {},
   "source": [
    "Extract gps coordinates from biotime data\n"
   ]
  },
  {
   "cell_type": "code",
   "execution_count": 10,
   "metadata": {},
   "outputs": [
    {
     "data": {
      "text/plain": [
       "(-2.386381, -59.918769)"
      ]
     },
     "execution_count": 10,
     "metadata": {},
     "output_type": "execute_result"
    }
   ],
   "source": [
    "actual_latitude, actual_longitude = biotime_examples.geocoordinates_from_study(\"Rocha et al. - 2017\")\n",
    "actual_latitude, actual_longitude"
   ]
  },
  {
   "cell_type": "markdown",
   "metadata": {},
   "source": [
    "Calculate the distance between the extracted and the actual geolocation"
   ]
  },
  {
   "cell_type": "code",
   "execution_count": 11,
   "metadata": {},
   "outputs": [
    {
     "data": {
      "text/plain": [
       "73422.87288501344"
      ]
     },
     "execution_count": 11,
     "metadata": {},
     "output_type": "execute_result"
    }
   ],
   "source": [
    "import utils\n",
    "utils.geodesic_distance((computed_latitude, computed_longitude), (actual_latitude, actual_longitude))"
   ]
  },
  {
   "cell_type": "markdown",
   "metadata": {},
   "source": [
    "Compute the differences in distances for all examples\n"
   ]
  },
  {
   "cell_type": "code",
   "execution_count": 12,
   "metadata": {},
   "outputs": [
    {
     "name": "stdout",
     "output_type": "stream",
     "text": [
      "10657.54925499289\n",
      "Anderson et al. - 2011 This historical data set consists of 44 permanent 1-m 2 quadrats located on northern mixed prairie in Miles City, Montana, USA.\n",
      "9676369.704282716\n",
      "Farah et al. - 2014 The municipal reserve of Santa Genebra (MRSG) has a total area of 251.77 ha and constitutes one of the major remnants of Seasonal Semideciduous Forest (a subtype of Atlantic Forest) in the state of São Paulo. It is a fragment isolated from other forests and surrounded by agricultural areas and residential neighborhoods. The local climate is of the Cwa type, defined as hot and humid, with dry winters and hot, rainy summers.\n",
      "2673884.7501648213\n",
      "Holmes et al. - 1986 This study was conducted in the Hubbard Brook Experimental Forest, a 3076-ha sector of the White Mountain National Forest, West Thornton Grafton County, but showed no increasing or decreasing trends over the 16 yr of the study (Fig. 1). Periods of cool, wet weather often occurred during May and early June, while thunderstorms, accompanied by heavy rains, high winds, and sometimes hail, were more common in late June and July.\n",
      "7029418.749585066\n",
      "Rocha et al. - 2017 Fieldwork was conducted at the BDFFP, located *80 km north of Manaus (2°30 0 S, 60°W), Brazil (see Fig. S1 in the Online Supplementary Material). The area is classified as tropical moist forest, and is characterized by a mosaic of terra firme rainforest, secondary regrowth, and primary forest fragments. Annual rainfall varies from 1900 to 3500 mm, with a dry season between June and October . The forest fragments were isolated from CF by distances of 80-650 m in the early 1980s, and are categorized into size classes of 1, 10 and 100 ha. Each fragment was re-isolated on 3-4 occasions prior to this study, most recently between 1999 and 2001 (Laurance et al. 2011). The matrix is composed of tall secondary forest dominated mainly by Vismia spp. and Cecropia spp.\n",
      "7313554.258246773\n",
      "Thomsen et al. - 2016 A modified Robinson light trap was installed 17Á5 m above ground at the roof of the Zoological Museum in Copenhagen, Denmark (N 55Á702512°, E 12Á558956°). A 250 W mercury vapour bulb was used as light source. In the trap, 1,1,2,2-tetrachlorethane was used as killing agent. The trap was emptied on an approximately weekly basis and was active from AprilNovember 1992-2009. All individual records of Lepidoptera and Coleoptera were collected, identified to species level and counted yielding qualitative (species) and quantitative (number of individuals within each species) data for the entire study period. All handling and identification of material was carried out consistently throughout the entire period by the same three persons: for Lepidoptera (OK) and Coleoptera (initiated by the late Dr. Michael Hansen and completed by JP). The final data set was subjected to a thorough quality check, and the few records (&lt;20 individual records) that could not be accounted for by comparison of collection periods were discarded. We excluded the first (1992) and the last year (2009) of the data set to minimize start-up effects (operating the trap in a standardized manner comparable to the remainder of the study period) and influence from alteration of the local habitat in 2009. Furthermore, in 1992 and 2009 the trap was not active in the entire season. To account for variation in sampling intervals, we grouped the data set into standardized 10-day periods the first starting on 1st of January (Julian Day 1) and the last period ending on December 26 (Julian Day 360). The 10-day interval is slightly longer than the mean sampling interval of 7 days.\n",
      "1435618.2745417585\n",
      "Woods - 2009 Established in 1935, a regular grid of 256 permanent plots includes about 20% of a 100-ha old-growth forest at the Dukes Research Natural Area in northern Michigan, USA. Woody stems have been re-measured 3-7 times providing extensive quantitative records of population and community dynamics over periods of up to 72 years. Woody stems in upland hemlock-northern hardwood stands, about half of the study plots, have been mapped and individually tracked since about 1990.\n"
     ]
    }
   ],
   "source": [
    "for study_name, study_text in biotime_examples.biotime_sample_sites.items():\n",
    "    geolocation_result = geo.geoparse(text)\n",
    "    computed_lat, computed_lon = extract_geolocation(geolocation_result)\n",
    "    actual_lat, actual_lon = biotime_examples.geocoordinates_from_study(study_name)\n",
    "    print(utils.geodesic_distance((computed_lat, computed_lon), (actual_lat, actual_lon)))\n",
    "    print(study_name, study_text)"
   ]
  }
 ],
 "metadata": {
  "file_extension": ".py",
  "kernelspec": {
   "display_name": "Python 3",
   "language": "python",
   "name": "python3"
  },
  "language_info": {
   "codemirror_mode": {
    "name": "ipython",
    "version": 3
   },
   "file_extension": ".py",
   "mimetype": "text/x-python",
   "name": "python",
   "nbconvert_exporter": "python",
   "pygments_lexer": "ipython3",
   "version": "3.6.7"
  },
  "mimetype": "text/x-python",
  "name": "python",
  "npconvert_exporter": "python",
  "pygments_lexer": "ipython3",
  "version": 3
 },
 "nbformat": 4,
 "nbformat_minor": 4
}
