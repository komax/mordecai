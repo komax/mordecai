{
 "cells": [
  {
   "cell_type": "markdown",
   "metadata": {},
   "source": [
    "# Compare geocoding results with curated geopositions\n",
    "- Make use of BioTIME database and mordecai\n",
    "- Calculate the geodesic distance between computed geoposition and curated longitude, latitude coordinates"
   ]
  },
  {
   "cell_type": "markdown",
   "metadata": {},
   "source": [
    "Ensure to reload Python scripts dynamically"
   ]
  },
  {
   "cell_type": "code",
   "execution_count": 59,
   "metadata": {},
   "outputs": [
    {
     "name": "stdout",
     "output_type": "stream",
     "text": [
      "The autoreload extension is already loaded. To reload it, use:\n",
      "  %reload_ext autoreload\n"
     ]
    }
   ],
   "source": [
    "%load_ext autoreload\n",
    "%autoreload 2"
   ]
  },
  {
   "cell_type": "markdown",
   "metadata": {},
   "source": [
    "Set up mordecai's geoparser"
   ]
  },
  {
   "cell_type": "code",
   "execution_count": 60,
   "metadata": {},
   "outputs": [],
   "source": [
    "from mordecai import Geoparser\n",
    "geo = Geoparser()"
   ]
  },
  {
   "cell_type": "markdown",
   "metadata": {},
   "source": [
    "Load examples from biotime via a Python helper"
   ]
  },
  {
   "cell_type": "code",
   "execution_count": 61,
   "metadata": {},
   "outputs": [],
   "source": [
    "import biotime_examples"
   ]
  },
  {
   "cell_type": "markdown",
   "metadata": {},
   "source": [
    "Show all examples"
   ]
  },
  {
   "cell_type": "code",
   "execution_count": 62,
   "metadata": {},
   "outputs": [
    {
     "data": {
      "text/plain": [
       "dict_keys(['Anderson et al. - 2011', 'Farah et al. - 2014', 'Holmes et al. - 1986', 'Rocha et al. - 2017', 'Thomsen et al. - 2016', 'Woods - 2009'])"
      ]
     },
     "execution_count": 62,
     "metadata": {},
     "output_type": "execute_result"
    }
   ],
   "source": [
    "biotime_examples.biotime_sample_sites.keys()"
   ]
  },
  {
   "cell_type": "markdown",
   "metadata": {},
   "source": [
    "Prepare a text for geocoding"
   ]
  },
  {
   "cell_type": "code",
   "execution_count": 63,
   "metadata": {},
   "outputs": [
    {
     "data": {
      "text/plain": [
       "'This historical data set consists of 44 permanent 1-m 2 quadrats located on northern mixed prairie in Miles City, Montana, USA.'"
      ]
     },
     "execution_count": 63,
     "metadata": {},
     "output_type": "execute_result"
    }
   ],
   "source": [
    "text = biotime_examples.biotime_sample_sites['Anderson et al. - 2011']\n",
    "text"
   ]
  },
  {
   "cell_type": "markdown",
   "metadata": {},
   "source": [
    "Geocoding of the entire text and show the resulting list of locations\n"
   ]
  },
  {
   "cell_type": "code",
   "execution_count": 64,
   "metadata": {},
   "outputs": [
    {
     "data": {
      "text/plain": [
       "[{'word': 'Miles City',\n",
       "  'spans': [{'start': 102, 'end': 112}],\n",
       "  'country_predicted': 'USA',\n",
       "  'country_conf': 0.999931,\n",
       "  'geo': {'admin1': 'Montana',\n",
       "   'lat': '46.40834',\n",
       "   'lon': '-105.84056',\n",
       "   'country_code3': 'USA',\n",
       "   'geonameid': '5666176',\n",
       "   'place_name': 'Miles City',\n",
       "   'feature_class': 'P',\n",
       "   'feature_code': 'PPLA2'}},\n",
       " {'word': 'Montana',\n",
       "  'spans': [{'start': 114, 'end': 121}],\n",
       "  'country_predicted': 'USA',\n",
       "  'country_conf': 0.9991698,\n",
       "  'geo': {'admin1': 'Montana',\n",
       "   'lat': '47.00025',\n",
       "   'lon': '-109.75102',\n",
       "   'country_code3': 'USA',\n",
       "   'geonameid': '5667009',\n",
       "   'place_name': 'Montana',\n",
       "   'feature_class': 'A',\n",
       "   'feature_code': 'ADM1'}},\n",
       " {'word': 'USA',\n",
       "  'spans': [{'start': 123, 'end': 126}],\n",
       "  'country_predicted': 'USA',\n",
       "  'country_conf': 0.999931,\n",
       "  'geo': {'admin1': 'California',\n",
       "   'lat': '34.00474',\n",
       "   'lon': '-117.33588',\n",
       "   'country_code3': 'USA',\n",
       "   'geonameid': '7195491',\n",
       "   'place_name': 'Sgi-Usa Riverside Community Center',\n",
       "   'feature_class': 'S',\n",
       "   'feature_code': 'BLDG'}}]"
      ]
     },
     "execution_count": 64,
     "metadata": {},
     "output_type": "execute_result"
    }
   ],
   "source": [
    "geocoding_res = geo.geoparse(text)\n",
    "geocoding_res"
   ]
  },
  {
   "cell_type": "markdown",
   "metadata": {},
   "source": [
    "Infer the country of the sampling site"
   ]
  },
  {
   "cell_type": "code",
   "execution_count": 65,
   "metadata": {},
   "outputs": [
    {
     "data": {
      "text/plain": [
       "[{'text': 'Miles City',\n",
       "  'label': 'United States',\n",
       "  'word': 'Miles City',\n",
       "  'spans': [{'start': 102, 'end': 112}],\n",
       "  'features': {'maj_vote': 'USA',\n",
       "   'word_vec': 'USA',\n",
       "   'first_back': 'USA',\n",
       "   'most_alt': 'USA',\n",
       "   'most_pop': 'USA',\n",
       "   'ct_mention': 'USA',\n",
       "   'ctm_count1': 2,\n",
       "   'ct_mention2': '',\n",
       "   'ctm_count2': 0,\n",
       "   'wv_confid': 17.08477783203125,\n",
       "   'class_mention': 'P',\n",
       "   'code_mention': ''},\n",
       "  'country_predicted': 'USA',\n",
       "  'country_conf': 0.999931,\n",
       "  'all_countries': array(['USA'], dtype='<U3'),\n",
       "  'all_confidence': array([0.999931], dtype=float32)},\n",
       " {'text': 'Montana',\n",
       "  'label': 'United States',\n",
       "  'word': 'Montana',\n",
       "  'spans': [{'start': 114, 'end': 121}],\n",
       "  'features': {'maj_vote': 'USA',\n",
       "   'word_vec': 'USA',\n",
       "   'first_back': 'ESP',\n",
       "   'most_alt': 'USA',\n",
       "   'most_pop': 'USA',\n",
       "   'ct_mention': 'USA',\n",
       "   'ctm_count1': 2,\n",
       "   'ct_mention2': '',\n",
       "   'ctm_count2': 0,\n",
       "   'wv_confid': 46.95623016357422,\n",
       "   'class_mention': '',\n",
       "   'code_mention': ''},\n",
       "  'country_predicted': 'USA',\n",
       "  'country_conf': 0.9991698,\n",
       "  'all_countries': array(['USA', 'ESP'], dtype='<U3'),\n",
       "  'all_confidence': array([9.9916983e-01, 1.7389722e-05], dtype=float32)},\n",
       " {'text': 'USA',\n",
       "  'label': 'United States',\n",
       "  'word': 'USA',\n",
       "  'spans': [{'start': 123, 'end': 126}],\n",
       "  'features': {'maj_vote': 'USA',\n",
       "   'word_vec': 'USA',\n",
       "   'first_back': 'USA',\n",
       "   'most_alt': 'USA',\n",
       "   'most_pop': 'USA',\n",
       "   'ct_mention': 'USA',\n",
       "   'ctm_count1': 2,\n",
       "   'ct_mention2': '',\n",
       "   'ctm_count2': 0,\n",
       "   'wv_confid': 40.69401550292969,\n",
       "   'class_mention': 'A',\n",
       "   'code_mention': 'PCLI'},\n",
       "  'country_predicted': 'USA',\n",
       "  'country_conf': 0.999931,\n",
       "  'all_countries': array(['USA'], dtype='<U3'),\n",
       "  'all_confidence': array([0.999931], dtype=float32)}]"
      ]
     },
     "execution_count": 65,
     "metadata": {},
     "output_type": "execute_result"
    }
   ],
   "source": [
    "geo.infer_country(text)"
   ]
  },
  {
   "cell_type": "markdown",
   "metadata": {},
   "source": [
    "Geocoding for another study"
   ]
  },
  {
   "cell_type": "code",
   "execution_count": 66,
   "metadata": {},
   "outputs": [
    {
     "data": {
      "text/plain": [
       "[{'word': 'Manaus',\n",
       "  'spans': [{'start': 62, 'end': 68}],\n",
       "  'country_predicted': 'BRA',\n",
       "  'country_conf': 0.993103,\n",
       "  'geo': {'admin1': 'Amazonas',\n",
       "   'lat': '-3.04361',\n",
       "   'lon': '-60.01282',\n",
       "   'country_code3': 'BRA',\n",
       "   'geonameid': '6319328',\n",
       "   'place_name': 'Manaus',\n",
       "   'feature_class': 'A',\n",
       "   'feature_code': 'ADM2'}},\n",
       " {'word': 'Brazil',\n",
       "  'spans': [{'start': 87, 'end': 93}],\n",
       "  'country_predicted': 'BRA',\n",
       "  'country_conf': 0.9998105,\n",
       "  'geo': {'admin1': 'NA',\n",
       "   'lat': '-10',\n",
       "   'lon': '-55',\n",
       "   'country_code3': 'BRA',\n",
       "   'geonameid': '3469034',\n",
       "   'place_name': 'Federative Republic of Brazil',\n",
       "   'feature_class': 'A',\n",
       "   'feature_code': 'PCLI'}}]"
      ]
     },
     "execution_count": 66,
     "metadata": {},
     "output_type": "execute_result"
    }
   ],
   "source": [
    "computed_geolocation_rocha = geo.geoparse(biotime_sample_sites[\"Rocha et al. - 2017\"])\n",
    "computed_geolocation_rocha"
   ]
  },
  {
   "cell_type": "markdown",
   "metadata": {},
   "source": [
    "Extract the GPS location from the geocoding result"
   ]
  },
  {
   "cell_type": "code",
   "execution_count": 67,
   "metadata": {},
   "outputs": [
    {
     "data": {
      "text/plain": [
       "(-3.04361, -60.01282)"
      ]
     },
     "execution_count": 67,
     "metadata": {},
     "output_type": "execute_result"
    }
   ],
   "source": [
    "from utils import extract_geolocation\n",
    "extract_geolocation(computed_geolocation_rocha)"
   ]
  },
  {
   "cell_type": "markdown",
   "metadata": {},
   "source": [
    "Extract gps coordinates from biotime data\n"
   ]
  },
  {
   "cell_type": "code",
   "execution_count": 68,
   "metadata": {},
   "outputs": [
    {
     "data": {
      "text/plain": [
       "(-2.386381, -59.918769)"
      ]
     },
     "execution_count": 68,
     "metadata": {},
     "output_type": "execute_result"
    }
   ],
   "source": [
    "actual_latitude, actual_longitude = biotime_examples.geocoordinates_from_study(\"Rocha et al. - 2017\")\n",
    "actual_latitude, actual_longitude"
   ]
  },
  {
   "cell_type": "markdown",
   "metadata": {},
   "source": [
    "Calculate the distance between the extracted and the actual geolocation"
   ]
  },
  {
   "cell_type": "code",
   "execution_count": 69,
   "metadata": {},
   "outputs": [
    {
     "data": {
      "text/plain": [
       "73422.87288501344"
      ]
     },
     "execution_count": 69,
     "metadata": {},
     "output_type": "execute_result"
    }
   ],
   "source": [
    "import utils\n",
    "utils.geodesic_distance((computed_latitude, computed_longitude), (actual_latitude, actual_longitude))"
   ]
  }
 ],
 "metadata": {
  "file_extension": ".py",
  "kernelspec": {
   "display_name": "Python 3",
   "language": "python",
   "name": "python3"
  },
  "language_info": {
   "codemirror_mode": {
    "name": "ipython",
    "version": 3
   },
   "file_extension": ".py",
   "mimetype": "text/x-python",
   "name": "python",
   "nbconvert_exporter": "python",
   "pygments_lexer": "ipython3",
   "version": "3.6.7"
  },
  "mimetype": "text/x-python",
  "name": "python",
  "npconvert_exporter": "python",
  "pygments_lexer": "ipython3",
  "version": 3
 },
 "nbformat": 4,
 "nbformat_minor": 4
}
